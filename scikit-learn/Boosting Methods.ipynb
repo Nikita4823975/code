{
 "cells": [
  {
   "cell_type": "code",
   "execution_count": 3,
   "id": "c50614fd-6e44-4f3c-8266-4c8619598759",
   "metadata": {},
   "outputs": [
    {
     "name": "stderr",
     "output_type": "stream",
     "text": [
      "C:\\Users\\Nik\\AppData\\Local\\Programs\\Python\\Python312\\Lib\\site-packages\\sklearn\\ensemble\\_weight_boosting.py:519: FutureWarning: The SAMME.R algorithm (the default) is deprecated and will be removed in 1.6. Use the SAMME algorithm to circumvent this warning.\n",
      "  warnings.warn(\n"
     ]
    },
    {
     "data": {
      "text/plain": [
       "{'algorithm': 'SAMME.R',\n",
       " 'estimator': None,\n",
       " 'learning_rate': 1.0,\n",
       " 'n_estimators': 100,\n",
       " 'random_state': 0}"
      ]
     },
     "execution_count": 3,
     "metadata": {},
     "output_type": "execute_result"
    }
   ],
   "source": [
    "# Classification with AdaBoost\n",
    "from sklearn.ensemble import AdaBoostClassifier\n",
    "from sklearn.datasets import make_classification\n",
    "X, y = make_classification(n_samples = 1000, n_features = 10,n_informative = 2, n_redundant = 0,random_state = 0, shuffle = False)\n",
    "ADBclf = AdaBoostClassifier(n_estimators = 100, random_state = 0)\n",
    "ADBclf.fit(X, y).get_params(deep=True)"
   ]
  },
  {
   "cell_type": "code",
   "execution_count": 4,
   "id": "78803b3a-6166-4f66-8edd-55f2b7a39fc8",
   "metadata": {},
   "outputs": [
    {
     "name": "stdout",
     "output_type": "stream",
     "text": [
      "[1]\n"
     ]
    }
   ],
   "source": [
    "print(ADBclf.predict([[0, 2, 3, 0, 1, 1, 1, 1, 2, 2]]))"
   ]
  },
  {
   "cell_type": "code",
   "execution_count": 5,
   "id": "34afabbc-9807-4dd8-8b92-28c331f086a5",
   "metadata": {},
   "outputs": [
    {
     "data": {
      "text/plain": [
       "0.995"
      ]
     },
     "execution_count": 5,
     "metadata": {},
     "output_type": "execute_result"
    }
   ],
   "source": [
    "ADBclf.score(X, y)"
   ]
  },
  {
   "cell_type": "code",
   "execution_count": 10,
   "id": "37b80868-fc21-42e4-8895-7b3625769133",
   "metadata": {},
   "outputs": [
    {
     "name": "stdout",
     "output_type": "stream",
     "text": [
      "0.7578092959671908\n"
     ]
    }
   ],
   "source": [
    "from pandas import read_csv\n",
    "from sklearn.model_selection import KFold, cross_val_score\n",
    "from sklearn.ensemble import AdaBoostClassifier\n",
    "url = \"https://raw.githubusercontent.com/jbrownlee/Datasets/master/pima-indians-diabetes.csv\"\n",
    "data = read_csv(url, header=None, names=['preg', 'plas', 'pres', 'skin', 'test', 'mass', 'pedi', 'age', 'class'])\n",
    "X = data[['preg', 'plas', 'pres', 'skin', 'test', 'mass', 'pedi', 'age']].values\n",
    "Y = data['class'].values\n",
    "\n",
    "kfold = KFold(n_splits=10)\n",
    "num_estimators = 100\n",
    "ADBclf = AdaBoostClassifier(n_estimators=num_estimators, algorithm='SAMME')\n",
    "results = cross_val_score(ADBclf, X, Y, cv=kfold)\n",
    "\n",
    "print(results.mean())\n"
   ]
  },
  {
   "cell_type": "code",
   "execution_count": 16,
   "id": "b530c1d1-945b-4ba5-a52d-ba457d5ab669",
   "metadata": {},
   "outputs": [
    {
     "data": {
      "text/plain": [
       "{'estimator': None,\n",
       " 'learning_rate': 1.0,\n",
       " 'loss': 'linear',\n",
       " 'n_estimators': 100,\n",
       " 'random_state': 0}"
      ]
     },
     "execution_count": 16,
     "metadata": {},
     "output_type": "execute_result"
    }
   ],
   "source": [
    "# Regression with AdaBoost\n",
    "from sklearn.ensemble import AdaBoostRegressor\n",
    "from sklearn.datasets import make_regression\n",
    "X, y = make_regression(n_features = 10, n_informative = 2,random_state = 0, shuffle = False)\n",
    "ADBregr = AdaBoostRegressor(random_state = 0,n_estimators = 100)\n",
    "ADBregr.fit(X, y).get_params(deep = True)"
   ]
  },
  {
   "cell_type": "code",
   "execution_count": 17,
   "id": "8a224d8a-bf37-4ee2-981f-6eb071b5c14b",
   "metadata": {},
   "outputs": [
    {
     "name": "stdout",
     "output_type": "stream",
     "text": [
      "[75.8528769]\n"
     ]
    }
   ],
   "source": [
    "print(ADBregr.predict([[0, 2, 3, 0, 1, 1, 1, 1, 2, 2]]))"
   ]
  },
  {
   "cell_type": "code",
   "execution_count": 18,
   "id": "839dfb21-d111-4e2b-a696-95f4ba0add1a",
   "metadata": {},
   "outputs": [
    {
     "data": {
      "text/plain": [
       "0.8724285714285714"
      ]
     },
     "execution_count": 18,
     "metadata": {},
     "output_type": "execute_result"
    }
   ],
   "source": [
    "# Classification with Gradient Tree Boost\n",
    "from sklearn.datasets import make_hastie_10_2\n",
    "from sklearn.ensemble import GradientBoostingClassifier\n",
    "X, y = make_hastie_10_2(random_state = 0)\n",
    "X_train, X_test = X[:5000], X[5000:]\n",
    "y_train, y_test = y[:5000], y[5000:]\n",
    "\n",
    "GDBclf = GradientBoostingClassifier(n_estimators = 50, learning_rate = 1.0,max_depth = 1, random_state = 0).fit(X_train, y_train)\n",
    "GDBclf.score(X_test, y_test)"
   ]
  },
  {
   "cell_type": "code",
   "execution_count": null,
   "id": "7162768e-43c9-4c2a-805f-a590d8afdefa",
   "metadata": {},
   "outputs": [],
   "source": [
    "from pandas import read_csv\n",
    "from sklearn.model_selection import KFold\n",
    "from sklearn.model_selection import cross_val_score\n",
    "from sklearn.ensemble import GradientBoostingClassifier\n",
    "path = r\"C:\\pima-indians-diabetes.csv\"\n",
    "headernames = ['preg', 'plas', 'pres', 'skin', 'test', 'mass', 'pedi', 'age', 'class']\n",
    "data = read_csv(path, names = headernames)\n",
    "array = data.values\n",
    "X = array[:,0:8]\n",
    "Y = array[:,8]\n",
    "seed = 5\n",
    "kfold = KFold(n_splits = 10, random_state = seed)\n",
    "num_trees = 100\n",
    "max_features = 5\n",
    "ADBclf = GradientBoostingClassifier(n_estimators = num_trees, max_features = max_features)\n",
    "results = cross_val_score(ADBclf, X, Y, cv = kfold)\n",
    "print(results.mean())"
   ]
  }
 ],
 "metadata": {
  "kernelspec": {
   "display_name": "Python 3 (ipykernel)",
   "language": "python",
   "name": "python3"
  },
  "language_info": {
   "codemirror_mode": {
    "name": "ipython",
    "version": 3
   },
   "file_extension": ".py",
   "mimetype": "text/x-python",
   "name": "python",
   "nbconvert_exporter": "python",
   "pygments_lexer": "ipython3",
   "version": "3.12.2"
  }
 },
 "nbformat": 4,
 "nbformat_minor": 5
}
