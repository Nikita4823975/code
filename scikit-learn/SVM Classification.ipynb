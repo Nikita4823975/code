{
 "cells": [
  {
   "cell_type": "code",
   "execution_count": 2,
   "id": "69d137d6-7b95-4b28-ba70-5720258e997b",
   "metadata": {},
   "outputs": [
    {
     "data": {
      "text/plain": [
       "{'C': 1.0,\n",
       " 'break_ties': False,\n",
       " 'cache_size': 200,\n",
       " 'class_weight': None,\n",
       " 'coef0': 0.0,\n",
       " 'decision_function_shape': 'ovr',\n",
       " 'degree': 3,\n",
       " 'gamma': 'scale',\n",
       " 'kernel': 'linear',\n",
       " 'max_iter': -1,\n",
       " 'probability': False,\n",
       " 'random_state': None,\n",
       " 'shrinking': False,\n",
       " 'tol': 0.001,\n",
       " 'verbose': False}"
      ]
     },
     "execution_count": 2,
     "metadata": {},
     "output_type": "execute_result"
    }
   ],
   "source": [
    "# SVC\n",
    "import numpy as np\n",
    "from sklearn.svm import SVC\n",
    "X = np.array([[-1, -1], [-2, -1], [1, 1], [2, 1]])\n",
    "y = np.array([1, 1, 2, 2])\n",
    "SVCClf = SVC(kernel = 'linear', gamma = 'scale', shrinking = False,)\n",
    "SVCClf.fit(X, y).get_params(deep = True)"
   ]
  },
  {
   "cell_type": "code",
   "execution_count": 3,
   "id": "7218318d-3344-4173-a437-b34d151c0448",
   "metadata": {},
   "outputs": [
    {
     "data": {
      "text/plain": [
       "array([[0.5, 0.5]])"
      ]
     },
     "execution_count": 3,
     "metadata": {},
     "output_type": "execute_result"
    }
   ],
   "source": [
    "SVCClf.coef_"
   ]
  },
  {
   "cell_type": "code",
   "execution_count": 4,
   "id": "153c1efd-4a53-4061-929c-ec2b28b6dbf6",
   "metadata": {},
   "outputs": [
    {
     "data": {
      "text/plain": [
       "array([1])"
      ]
     },
     "execution_count": 4,
     "metadata": {},
     "output_type": "execute_result"
    }
   ],
   "source": [
    "SVCClf.predict([[-0.5,-0.8]])"
   ]
  },
  {
   "cell_type": "code",
   "execution_count": 5,
   "id": "a359e148-03d1-4c3b-aa23-a70f7879e3c5",
   "metadata": {},
   "outputs": [
    {
     "data": {
      "text/plain": [
       "array([1, 1])"
      ]
     },
     "execution_count": 5,
     "metadata": {},
     "output_type": "execute_result"
    }
   ],
   "source": [
    "SVCClf.n_support_"
   ]
  },
  {
   "cell_type": "code",
   "execution_count": 6,
   "id": "aae33009-b342-4ffe-ae18-3ca2d5ed32f9",
   "metadata": {},
   "outputs": [
    {
     "data": {
      "text/plain": [
       "array([[-1., -1.],\n",
       "       [ 1.,  1.]])"
      ]
     },
     "execution_count": 6,
     "metadata": {},
     "output_type": "execute_result"
    }
   ],
   "source": [
    "SVCClf.support_vectors_"
   ]
  },
  {
   "cell_type": "code",
   "execution_count": 7,
   "id": "6b6fd65b-8456-4dc6-aa6e-da58f6f5d09a",
   "metadata": {},
   "outputs": [
    {
     "data": {
      "text/plain": [
       "array([0, 2])"
      ]
     },
     "execution_count": 7,
     "metadata": {},
     "output_type": "execute_result"
    }
   ],
   "source": [
    "SVCClf.support_"
   ]
  },
  {
   "cell_type": "code",
   "execution_count": 8,
   "id": "329152a9-267b-476f-be00-1e8becb945bb",
   "metadata": {},
   "outputs": [
    {
     "data": {
      "text/plain": [
       "array([-0.])"
      ]
     },
     "execution_count": 8,
     "metadata": {},
     "output_type": "execute_result"
    }
   ],
   "source": [
    "SVCClf.intercept_"
   ]
  },
  {
   "cell_type": "code",
   "execution_count": 9,
   "id": "0943d815-a544-43d2-ba06-12030899738a",
   "metadata": {},
   "outputs": [
    {
     "data": {
      "text/plain": [
       "0"
      ]
     },
     "execution_count": 9,
     "metadata": {},
     "output_type": "execute_result"
    }
   ],
   "source": [
    "SVCClf.fit_status_"
   ]
  },
  {
   "cell_type": "code",
   "execution_count": 14,
   "id": "45ff7f33-f10f-44f5-b4d2-e19b3777e1ea",
   "metadata": {},
   "outputs": [
    {
     "data": {
      "text/plain": [
       "{'break_ties': False,\n",
       " 'cache_size': 200,\n",
       " 'class_weight': None,\n",
       " 'coef0': 0.0,\n",
       " 'decision_function_shape': 'ovr',\n",
       " 'degree': 3,\n",
       " 'gamma': 'scale',\n",
       " 'kernel': 'linear',\n",
       " 'max_iter': -1,\n",
       " 'nu': 0.7,\n",
       " 'probability': False,\n",
       " 'random_state': None,\n",
       " 'shrinking': False,\n",
       " 'tol': 0.001,\n",
       " 'verbose': False}"
      ]
     },
     "execution_count": 14,
     "metadata": {},
     "output_type": "execute_result"
    }
   ],
   "source": [
    "# NuSVC\n",
    "import numpy as np\n",
    "from sklearn.svm import NuSVC\n",
    "X = np.array([[-1, -1], [-2, -1], [1, 1], [2, 1]])\n",
    "y = np.array([1, 1, 2, 2])\n",
    "NuSVCClf = NuSVC(kernel = 'linear',gamma = 'scale', shrinking = False, nu = 0.7)\n",
    "NuSVCClf.fit(X, y).get_params(deep = True)"
   ]
  },
  {
   "cell_type": "code",
   "execution_count": 16,
   "id": "5322e7d2-2a3b-4857-91d0-0921ad150918",
   "metadata": {},
   "outputs": [
    {
     "data": {
      "text/plain": [
       "{'C': 1.0,\n",
       " 'class_weight': None,\n",
       " 'dual': False,\n",
       " 'fit_intercept': True,\n",
       " 'intercept_scaling': 1,\n",
       " 'loss': 'squared_hinge',\n",
       " 'max_iter': 1000,\n",
       " 'multi_class': 'ovr',\n",
       " 'penalty': 'l1',\n",
       " 'random_state': 0,\n",
       " 'tol': 1e-05,\n",
       " 'verbose': 0}"
      ]
     },
     "execution_count": 16,
     "metadata": {},
     "output_type": "execute_result"
    }
   ],
   "source": [
    "# LinearSVC\n",
    "from sklearn.svm import LinearSVC\n",
    "from sklearn.datasets import make_classification\n",
    "X, y = make_classification(n_features = 4, random_state = 0)\n",
    "LSVCClf = LinearSVC(dual = False, random_state = 0, penalty = 'l1',tol = 1e-5)\n",
    "LSVCClf.fit(X, y).get_params(deep = True)"
   ]
  },
  {
   "cell_type": "code",
   "execution_count": 17,
   "id": "d95a253f-5a52-4ed6-ab64-cc46c3044d6b",
   "metadata": {},
   "outputs": [
    {
     "data": {
      "text/plain": [
       "array([1])"
      ]
     },
     "execution_count": 17,
     "metadata": {},
     "output_type": "execute_result"
    }
   ],
   "source": [
    "LSVCClf.predict([[0,0,0,0]])"
   ]
  },
  {
   "cell_type": "code",
   "execution_count": 18,
   "id": "c7c127d7-998b-4d32-9087-fc254e6de4e2",
   "metadata": {},
   "outputs": [
    {
     "data": {
      "text/plain": [
       "array([[0.        , 0.        , 0.91214599, 0.22630641]])"
      ]
     },
     "execution_count": 18,
     "metadata": {},
     "output_type": "execute_result"
    }
   ],
   "source": [
    "LSVCClf.coef_"
   ]
  },
  {
   "cell_type": "code",
   "execution_count": 19,
   "id": "0457c6af-62a4-4312-a38d-b7ce05a176a9",
   "metadata": {},
   "outputs": [
    {
     "data": {
      "text/plain": [
       "array([0.26860191])"
      ]
     },
     "execution_count": 19,
     "metadata": {},
     "output_type": "execute_result"
    }
   ],
   "source": [
    "LSVCClf.intercept_"
   ]
  }
 ],
 "metadata": {
  "kernelspec": {
   "display_name": "Python 3 (ipykernel)",
   "language": "python",
   "name": "python3"
  },
  "language_info": {
   "codemirror_mode": {
    "name": "ipython",
    "version": 3
   },
   "file_extension": ".py",
   "mimetype": "text/x-python",
   "name": "python",
   "nbconvert_exporter": "python",
   "pygments_lexer": "ipython3",
   "version": "3.12.2"
  }
 },
 "nbformat": 4,
 "nbformat_minor": 5
}
