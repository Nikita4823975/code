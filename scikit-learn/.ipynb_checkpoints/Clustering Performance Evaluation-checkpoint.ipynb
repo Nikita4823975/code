{
 "cells": [
  {
   "cell_type": "code",
   "execution_count": 1,
   "id": "f235451c-5e80-47a7-9a2a-d0f221b27998",
   "metadata": {},
   "outputs": [
    {
     "data": {
      "text/plain": [
       "0.4444444444444444"
      ]
     },
     "execution_count": 1,
     "metadata": {},
     "output_type": "execute_result"
    }
   ],
   "source": [
    "# Adjusted Rand Index\n",
    "from sklearn.metrics.cluster import adjusted_rand_score\n",
    "labels_true = [0, 0, 1, 1, 1, 1]\n",
    "labels_pred = [0, 0, 2, 2, 3, 3]\n",
    "adjusted_rand_score(labels_true, labels_pred)"
   ]
  },
  {
   "cell_type": "code",
   "execution_count": 3,
   "id": "cbb22a37-8ead-44b5-9b45-520f4d362c3e",
   "metadata": {},
   "outputs": [
    {
     "data": {
      "text/plain": [
       "0.7336804366512113"
      ]
     },
     "execution_count": 3,
     "metadata": {},
     "output_type": "execute_result"
    }
   ],
   "source": [
    "# Mutual Information Based Score\n",
    "\n",
    "# Normalized Mutual Information\n",
    "from sklearn.metrics.cluster import normalized_mutual_info_score\n",
    "labels_true = [0, 0, 1, 1, 1, 1]\n",
    "labels_pred = [0, 0, 2, 2, 3, 3]\n",
    "normalized_mutual_info_score(labels_true, labels_pred)"
   ]
  },
  {
   "cell_type": "code",
   "execution_count": 4,
   "id": "2bfeb118-6b31-4f29-a14f-bf1198709723",
   "metadata": {},
   "outputs": [
    {
     "data": {
      "text/plain": [
       "0.6153846153846159"
      ]
     },
     "execution_count": 4,
     "metadata": {},
     "output_type": "execute_result"
    }
   ],
   "source": [
    "# Adjusted Mutual Information\n",
    "from sklearn.metrics.cluster import adjusted_mutual_info_score\n",
    "labels_true = [0, 0, 1, 1, 1, 1]\n",
    "labels_pred = [0, 0, 2, 2, 3, 3]\n",
    "adjusted_mutual_info_score (labels_true, labels_pred)"
   ]
  },
  {
   "cell_type": "code",
   "execution_count": 6,
   "id": "8e2ccfcd-8e98-4dc6-9e47-18482b737bf6",
   "metadata": {},
   "outputs": [
    {
     "data": {
      "text/plain": [
       "0.6546536707079771"
      ]
     },
     "execution_count": 6,
     "metadata": {},
     "output_type": "execute_result"
    }
   ],
   "source": [
    "# Fowlkes-Mallows Score\n",
    "from sklearn.metrics.cluster import fowlkes_mallows_score\n",
    "labels_true = [0, 0, 1, 1, 1, 1]\n",
    "labels_pred = [0, 0, 2, 2, 3, 3]\n",
    "fowlkes_mallows_score(labels_true, labels_pred)"
   ]
  },
  {
   "cell_type": "code",
   "execution_count": 8,
   "id": "2bbc0121-d94e-4292-a833-05ef594fc075",
   "metadata": {},
   "outputs": [
    {
     "data": {
      "text/plain": [
       "0.551191604619592"
      ]
     },
     "execution_count": 8,
     "metadata": {},
     "output_type": "execute_result"
    }
   ],
   "source": [
    "# Silhouette Coefficient\n",
    "from sklearn.metrics import silhouette_score\n",
    "from sklearn.metrics import pairwise_distances\n",
    "from sklearn import datasets\n",
    "import numpy as np\n",
    "from sklearn.cluster import KMeans\n",
    "dataset = datasets.load_iris()\n",
    "X = dataset.data\n",
    "y = dataset.target\n",
    "\n",
    "kmeans_model = KMeans(n_clusters = 3, random_state = 1).fit(X)\n",
    "labels = kmeans_model.labels_\n",
    "silhouette_score(X, labels, metric = 'euclidean')"
   ]
  },
  {
   "cell_type": "code",
   "execution_count": 9,
   "id": "7091fc2a-e3df-4e27-aa22-9257d3f6c1d7",
   "metadata": {},
   "outputs": [
    {
     "data": {
      "text/plain": [
       "array([[0, 2, 1],\n",
       "       [1, 1, 1]], dtype=int64)"
      ]
     },
     "execution_count": 9,
     "metadata": {},
     "output_type": "execute_result"
    }
   ],
   "source": [
    "# Contingency Matrix\n",
    "from sklearn.metrics.cluster import contingency_matrix\n",
    "x = [\"a\", \"a\", \"a\", \"b\", \"b\", \"b\"]\n",
    "y = [1, 1, 2, 0, 1, 2]\n",
    "contingency_matrix(x, y)"
   ]
  }
 ],
 "metadata": {
  "kernelspec": {
   "display_name": "Python 3 (ipykernel)",
   "language": "python",
   "name": "python3"
  },
  "language_info": {
   "codemirror_mode": {
    "name": "ipython",
    "version": 3
   },
   "file_extension": ".py",
   "mimetype": "text/x-python",
   "name": "python",
   "nbconvert_exporter": "python",
   "pygments_lexer": "ipython3",
   "version": "3.12.2"
  }
 },
 "nbformat": 4,
 "nbformat_minor": 5
}
