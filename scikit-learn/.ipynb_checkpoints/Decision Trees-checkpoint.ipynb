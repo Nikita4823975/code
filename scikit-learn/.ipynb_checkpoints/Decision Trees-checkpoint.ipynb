{
 "cells": [
  {
   "cell_type": "code",
   "execution_count": 9,
   "id": "26144178-0bfe-400d-be52-3dc1bde4c6bf",
   "metadata": {},
   "outputs": [
    {
     "name": "stdout",
     "output_type": "stream",
     "text": [
      "['Woman' 'Woman' 'Woman' 'Woman' 'Man' 'Woman' 'Man' 'Woman'] \n",
      " [[112, 38], [176, 28], [116, 25], [174, 65], [197, 20], [136, 34], [196, 25], [196, 38]]\n"
     ]
    }
   ],
   "source": [
    "# Classification with Decision Trees\n",
    "from sklearn import tree\n",
    "from sklearn.model_selection import train_test_split\n",
    "X=[[165,19],[175,32],[136,35],[174,65],[141,28],[176,15],[131,32],[166,6],[128,32],[179,10],[136,34],[186,2],[126,25],[176,28],[112,38],[169,9],[171,36],[116,25],[196,25],[196,38], [126,40], [197,20], [150,25], [140,32],[136,35]]\n",
    "Y=['Man','Woman','Woman','Man','Woman','Man','Woman','Man','Woman','Man','Woman','Man','Woman','Woman','Woman','Man','Woman','Woman','Man', 'Woman', 'Woman', 'Man', 'Man', 'Woman', 'Woman']\n",
    "data_feature_names = ['height','length of hair']\n",
    "X_train, X_test, y_train, y_test = train_test_split(X, Y, test_size = 0.3, random_state = 1)\n",
    "DTclf = tree.DecisionTreeClassifier()\n",
    "DTclf = DTclf.fit(X_train, y_train)\n",
    "prediction = DTclf.predict(X_test)\n",
    "print(prediction, '\\n', X_test)"
   ]
  },
  {
   "cell_type": "code",
   "execution_count": 14,
   "id": "847bdeed-8644-4301-a7db-d3f32014ae8f",
   "metadata": {},
   "outputs": [
    {
     "name": "stdout",
     "output_type": "stream",
     "text": [
      "[[1. 0.]]\n"
     ]
    }
   ],
   "source": [
    "prediction = DTclf.predict_proba([[175, 9]])\n",
    "print(prediction)"
   ]
  },
  {
   "cell_type": "code",
   "execution_count": 16,
   "id": "457f3c95-95dd-40b7-8ba5-485c4e4aeac5",
   "metadata": {},
   "outputs": [
    {
     "data": {
      "text/plain": [
       "{'ccp_alpha': 0.0,\n",
       " 'criterion': 'squared_error',\n",
       " 'max_depth': None,\n",
       " 'max_features': None,\n",
       " 'max_leaf_nodes': None,\n",
       " 'min_impurity_decrease': 0.0,\n",
       " 'min_samples_leaf': 1,\n",
       " 'min_samples_split': 2,\n",
       " 'min_weight_fraction_leaf': 0.0,\n",
       " 'monotonic_cst': None,\n",
       " 'random_state': None,\n",
       " 'splitter': 'best'}"
      ]
     },
     "execution_count": 16,
     "metadata": {},
     "output_type": "execute_result"
    }
   ],
   "source": [
    "# Regression with Decision Trees\n",
    "from sklearn import tree\n",
    "X = [[1, 1], [5, 5]]\n",
    "y = [0.1, 1.5]\n",
    "DTreg = tree.DecisionTreeRegressor()\n",
    "DTreg.fit(X, y).get_params(deep = True)\n"
   ]
  },
  {
   "cell_type": "code",
   "execution_count": 23,
   "id": "c2ed5789-1e84-42bf-ad33-785e22860178",
   "metadata": {},
   "outputs": [
    {
     "data": {
      "text/plain": [
       "array([1.5])"
      ]
     },
     "execution_count": 23,
     "metadata": {},
     "output_type": "execute_result"
    }
   ],
   "source": [
    "DTreg.predict([[4, 5]])"
   ]
  },
  {
   "cell_type": "code",
   "execution_count": null,
   "id": "2ca7e924-146b-4433-b117-acd2da699380",
   "metadata": {},
   "outputs": [],
   "source": []
  }
 ],
 "metadata": {
  "kernelspec": {
   "display_name": "Python 3 (ipykernel)",
   "language": "python",
   "name": "python3"
  },
  "language_info": {
   "codemirror_mode": {
    "name": "ipython",
    "version": 3
   },
   "file_extension": ".py",
   "mimetype": "text/x-python",
   "name": "python",
   "nbconvert_exporter": "python",
   "pygments_lexer": "ipython3",
   "version": "3.12.2"
  }
 },
 "nbformat": 4,
 "nbformat_minor": 5
}
