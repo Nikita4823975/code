{
 "cells": [
  {
   "cell_type": "code",
   "execution_count": 18,
   "id": "d7b2dc29-8408-4a69-88d8-1f48a177934f",
   "metadata": {},
   "outputs": [
    {
     "data": {
      "text/plain": [
       "array([[ 1.,  0.,  1.,  0.,  0.,  1.],\n",
       "       [ 1.,  2.,  3.,  4.,  6.,  9.],\n",
       "       [ 1.,  4.,  5., 16., 20., 25.],\n",
       "       [ 1.,  6.,  7., 36., 42., 49.]])"
      ]
     },
     "execution_count": 18,
     "metadata": {},
     "output_type": "execute_result"
    }
   ],
   "source": [
    "from sklearn.preprocessing import PolynomialFeatures\n",
    "import numpy as np\n",
    "Y = np.arange(8).reshape(4,2)\n",
    "poly = PolynomialFeatures(degree = 2)\n",
    "poly.fit_transform(Y)"
   ]
  },
  {
   "cell_type": "code",
   "execution_count": null,
   "id": "8899e1dd-039e-487d-97d3-acb3cf164a26",
   "metadata": {},
   "outputs": [],
   "source": [
    "# Row 1: [1., 0., 1., 0., 0., 1.]\n",
    "\n",
    "#     This corresponds to the original data [0, 1]. Here's what each element represents:\n",
    "#         1.: Bias term (constant term).\n",
    "#         0.: First variable (X1).\n",
    "#         1.: Second variable (X2).\n",
    "#         0.: Product of the first and second variables (X1 * X2).\n",
    "#         0.: Square of the first variable (X1^2).\n",
    "#         1.: Square of the second variable (X2^2).\n",
    "\n",
    "# Row 2: [1., 2., 3., 6., 4., 9.]\n",
    "\n",
    "#     This corresponds to the original data [2, 3]. Here's what each element represents:\n",
    "#         1.: Bias term.\n",
    "#         2.: First variable (X1).\n",
    "#         3.: Second variable (X2).\n",
    "#         6.: Product of the first and second variables (X1 * X2).\n",
    "#         4.: Square of the first variable (X1^2).\n",
    "#         9.: Square of the second variable (X2^2).\n",
    "\n",
    "# Row 3: [1., 4., 5., 20., 16., 25.]\n",
    "\n",
    "#     This corresponds to the original data [4, 5]. Here's what each element represents:\n",
    "#         1.: Bias term.\n",
    "#         4.: First variable (X1).\n",
    "#         5.: Second variable (X2).\n",
    "#         20.: Product of the first and second variables (X1 * X2).\n",
    "#         16.: Square of the first variable (X1^2).\n",
    "#         25.: Square of the second variable (X2^2).\n",
    "\n",
    "# Row 4: [1., 6., 7., 42., 36., 49.]\n",
    "\n",
    "#     This corresponds to the original data [6, 7]. Here's what each element represents:\n",
    "#         1.: Bias term.\n",
    "#         6.: First variable (X1).\n",
    "#         7.: Second variable (X2).\n",
    "#         42.: Product of the first and second variables (X1 * X2).\n",
    "#         36.: Square of the first variable (X1^2).\n",
    "#         49.: Square of the second variable (X2^2).\n"
   ]
  },
  {
   "cell_type": "code",
   "execution_count": 17,
   "id": "72cfe438-cf22-4945-b230-ea12081be5b4",
   "metadata": {},
   "outputs": [
    {
     "name": "stdout",
     "output_type": "stream",
     "text": [
      "[0 1 2 3 4]\n"
     ]
    },
    {
     "data": {
      "text/plain": [
       "(array([ 3., -2.,  1., -1.]), array([  3.,   1.,  -5., -21., -53.]))"
      ]
     },
     "execution_count": 17,
     "metadata": {},
     "output_type": "execute_result"
    }
   ],
   "source": [
    "# pipeline\n",
    "#First, import the necessary packages.\n",
    "from sklearn.preprocessing import PolynomialFeatures\n",
    "from sklearn.linear_model import LinearRegression\n",
    "from sklearn.pipeline import Pipeline\n",
    "import numpy as np\n",
    "\n",
    "\n",
    "#Next, create an object of Pipeline tool\n",
    "Stream_model = Pipeline([('poly', PolynomialFeatures(degree = 3)),('linear', LinearRegression(fit_intercept = False))])\n",
    "\n",
    "#Provide the size of array and order of polynomial data to fit the model.\n",
    "x = np.arange(5)\n",
    "y = 3 - 2 * x + x ** 2 - x ** 3\n",
    "Stream_model.fit(x[:, np.newaxis], y)\n",
    "\n",
    "#Calculate the input polynomial coefficients.\n",
    "Stream_model.named_steps['linear'].coef_, Stream_model.predict(x[:, np.newaxis])"
   ]
  },
  {
   "cell_type": "code",
   "execution_count": null,
   "id": "7cf7a5d7-95a2-43ac-a193-c4e6b841ce64",
   "metadata": {},
   "outputs": [],
   "source": []
  }
 ],
 "metadata": {
  "kernelspec": {
   "display_name": "Python 3 (ipykernel)",
   "language": "python",
   "name": "python3"
  },
  "language_info": {
   "codemirror_mode": {
    "name": "ipython",
    "version": 3
   },
   "file_extension": ".py",
   "mimetype": "text/x-python",
   "name": "python",
   "nbconvert_exporter": "python",
   "pygments_lexer": "ipython3",
   "version": "3.12.2"
  }
 },
 "nbformat": 4,
 "nbformat_minor": 5
}
