{
 "cells": [
  {
   "cell_type": "code",
   "execution_count": 1,
   "id": "00a52b7d-eeb6-41e1-8fd9-7e7cdec2eb91",
   "metadata": {},
   "outputs": [],
   "source": [
    "import torch\n",
    "import torchvision.models as models"
   ]
  },
  {
   "cell_type": "code",
   "execution_count": 2,
   "id": "3a3c5993-366b-4255-bfb0-963b0016edee",
   "metadata": {},
   "outputs": [
    {
     "name": "stderr",
     "output_type": "stream",
     "text": [
      "Downloading: \"https://download.pytorch.org/models/vgg16-397923af.pth\" to C:\\Users\\Nik/.cache\\torch\\hub\\checkpoints\\vgg16-397923af.pth\n",
      "100%|███████████████████████████████████████████████████████████████████████████████| 528M/528M [01:43<00:00, 5.33MB/s]\n"
     ]
    }
   ],
   "source": [
    "model = models.vgg16(weights='IMAGENET1K_V1')\n",
    "torch.save(model.state_dict(), 'models/model_weights.pth')"
   ]
  },
  {
   "cell_type": "code",
   "execution_count": null,
   "id": "54991730-f0a3-495c-a7ea-803d7304c4af",
   "metadata": {},
   "outputs": [],
   "source": [
    "model = models.vgg16() # we do not specify ``weights``, i.e. create untrained model\n",
    "model.load_state_dict(torch.load('models/model_weights.pth', weights_only=True))\n",
    "model.eval()"
   ]
  },
  {
   "cell_type": "code",
   "execution_count": null,
   "id": "6c299957-3871-4490-b8f6-bd372fe8729d",
   "metadata": {},
   "outputs": [],
   "source": [
    "#When loading model weights, we needed to instantiate the model class first,\n",
    "#because the class defines the structure of a network. We might want to save the structure of this class together with the model,\n",
    "#in which case we can pass model (and not model.state_dict()) to the saving function:\n",
    "torch.save(model, 'model.pth')\n",
    "model = torch.load('model.pth', weights_only=False),"
   ]
  }
 ],
 "metadata": {
  "kernelspec": {
   "display_name": "Python 3 (ipykernel)",
   "language": "python",
   "name": "python3"
  },
  "language_info": {
   "codemirror_mode": {
    "name": "ipython",
    "version": 3
   },
   "file_extension": ".py",
   "mimetype": "text/x-python",
   "name": "python",
   "nbconvert_exporter": "python",
   "pygments_lexer": "ipython3",
   "version": "3.12.2"
  }
 },
 "nbformat": 4,
 "nbformat_minor": 5
}
